{
  "metadata": {
    "language_info": {
      "codemirror_mode": {
        "name": "python",
        "version": 3
      },
      "file_extension": ".py",
      "mimetype": "text/x-python",
      "name": "python",
      "nbconvert_exporter": "python",
      "pygments_lexer": "ipython3",
      "version": "3.8"
    },
    "kernelspec": {
      "name": "python",
      "display_name": "Python (Pyodide)",
      "language": "python"
    }
  },
  "nbformat_minor": 4,
  "nbformat": 4,
  "cells": [
    {
      "cell_type": "markdown",
      "source": "*Exercise 1: Create a Jupyter Notebook*\n*The file name is DataScienceEcosystem.ipynb*",
      "metadata": {
        "tags": [],
        "jupyter": {
          "source_hidden": true
        }
      }
    },
    {
      "cell_type": "markdown",
      "source": "*Exercise 2: Create markdown cell with title of the notebook*",
      "metadata": {
        "jp-MarkdownHeadingCollapsed": true,
        "tags": [],
        "jupyter": {
          "source_hidden": true
        }
      }
    },
    {
      "cell_type": "markdown",
      "source": "# Data Science Tools and Ecosystem",
      "metadata": {
        "tags": [],
        "jp-MarkdownHeadingCollapsed": true
      }
    },
    {
      "cell_type": "markdown",
      "source": "*Exercise 3 - Create a markdown cell for an introduction*",
      "metadata": {
        "tags": [],
        "jupyter": {
          "source_hidden": true
        }
      }
    },
    {
      "cell_type": "markdown",
      "source": "### In this notebook, Data Science Tools and Ecosystem are summarized.",
      "metadata": {}
    },
    {
      "cell_type": "markdown",
      "source": "*Exercise 4 - Create a markdown cell to list data science languages*",
      "metadata": {
        "tags": [],
        "jupyter": {
          "source_hidden": true
        }
      }
    },
    {
      "cell_type": "markdown",
      "source": "#### Some of the popular languages that Data Scientists use are:\n1. Python\n2. Julia\n3. R",
      "metadata": {}
    },
    {
      "cell_type": "markdown",
      "source": "*Exercise 5 - Create a markdown cell to list data science libraries*",
      "metadata": {
        "tags": [],
        "jupyter": {
          "source_hidden": true
        }
      }
    },
    {
      "cell_type": "markdown",
      "source": "#### Some of the commonly used libraries used by Data Scientists include:\n1. Pandas\n2. NumPy\n3. Matplotlib",
      "metadata": {}
    },
    {
      "cell_type": "markdown",
      "source": "*Exercise 6 - Create a markdown cell with a table of Data Science tools*",
      "metadata": {
        "jupyter": {
          "source_hidden": true
        },
        "tags": []
      }
    },
    {
      "cell_type": "markdown",
      "source": "### Some of the open source development environment tools\n|Data Science Tools|\n|------------------|\n|Jupyter Notebooks |\n|   Jupyter lab    |\n|     RStudio      |",
      "metadata": {}
    },
    {
      "cell_type": "markdown",
      "source": "*Exercise 7 - Create a markdown cell introducing arithmetic expression examples*",
      "metadata": {
        "jupyter": {
          "source_hidden": true
        },
        "tags": []
      }
    },
    {
      "cell_type": "markdown",
      "source": "### Below are a few examples of evaluating arithmetic expressions in Python.",
      "metadata": {}
    },
    {
      "cell_type": "markdown",
      "source": "*Exercise 8 - Create a code cell to multiply and add numbers*",
      "metadata": {
        "jupyter": {
          "source_hidden": true
        },
        "tags": []
      }
    },
    {
      "cell_type": "code",
      "source": "# This a simple arithmetic expression to mutiply then add integers\n(3*4)+5",
      "metadata": {
        "trusted": true
      },
      "execution_count": 3,
      "outputs": [
        {
          "execution_count": 3,
          "output_type": "execute_result",
          "data": {
            "text/plain": "17"
          },
          "metadata": {}
        }
      ]
    },
    {
      "cell_type": "markdown",
      "source": "*Exercise 9 - Create a code cell to convert minutes to hours*",
      "metadata": {
        "tags": []
      }
    },
    {
      "cell_type": "code",
      "source": "# This will convert 200 minutes to hours by diving by 60\nx = 200 # 200 minutes\ny = 60  # 1 hour = 60 minutes\nhours = x/y\nprint(round(hours,2))",
      "metadata": {
        "trusted": true
      },
      "execution_count": 7,
      "outputs": [
        {
          "name": "stdout",
          "text": "3.33\n",
          "output_type": "stream"
        }
      ]
    },
    {
      "cell_type": "markdown",
      "source": "*Exercise 10 - Insert a markdown cell to list Objectives*",
      "metadata": {
        "jupyter": {
          "source_hidden": true
        },
        "tags": []
      }
    },
    {
      "cell_type": "markdown",
      "source": "### **Objectives:**",
      "metadata": {}
    },
    {
      "cell_type": "markdown",
      "source": "- Python\n- R\n- SQL\n- java\n- Scala",
      "metadata": {}
    },
    {
      "cell_type": "markdown",
      "source": "*Exercise 11 - Create a markdown cell to indicate the Author's name*",
      "metadata": {
        "jupyter": {
          "source_hidden": true
        },
        "tags": []
      }
    },
    {
      "cell_type": "markdown",
      "source": "## Author\nSuman Mazumder",
      "metadata": {}
    },
    {
      "cell_type": "code",
      "source": "",
      "metadata": {},
      "execution_count": null,
      "outputs": []
    }
  ]
}
